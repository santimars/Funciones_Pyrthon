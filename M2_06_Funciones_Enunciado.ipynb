{
 "cells": [
  {
   "cell_type": "markdown",
   "metadata": {},
   "source": [
    "# Ejercicios Modulo 2. Funciones\n",
    "\n",
    "Consideraciones a tener en cuenta: \n",
    "\n",
    "* Guardar este documento con el siguiente formato para su entrega: __M2_06_nombre_apellido1_apellido2__\n",
    "* Realizar los ejercicios con las herramientas vistas en las sesiones. \n",
    "* Comentar el código\n",
    "* Utilizar nombres de variables apropiados, si vais a guardar una nota, llamar a esa variable nota, no n o x"
   ]
  },
  {
   "cell_type": "markdown",
   "metadata": {},
   "source": [
    "**1) Realiza una función que devuelva el área de un rectángulo a partir de su base y su altura. La función se llamará area_rectangulo(). La base y la altura se pedirán al usuario por teclado.**\n",
    "\n",
    "*Nota: El área de un rectángulo se obtiene al multiplicar la base por la altura.*"
   ]
  },
  {
   "cell_type": "code",
   "execution_count": 3,
   "metadata": {},
   "outputs": [
    {
     "name": "stdout",
     "output_type": "stream",
     "text": [
      "El Área de su Triangulo es:  3825\n"
     ]
    }
   ],
   "source": [
    "def area_rectangulo( a , b):\n",
    "    area = a * b\n",
    "    return area\n",
    "Área = area_rectangulo(a = int(input(\"Escriba su Base\")),b =int(input(\"Escriba su Altura\")))\n",
    "print (\"El Área de su Triangulo es: \",Área)\n"
   ]
  },
  {
   "cell_type": "markdown",
   "metadata": {},
   "source": [
    "**2) Realiza una función que devuelva el área de un círculo a partir de un radio. La función se llamará area_circulo(). El radio se pedirá al usuario por teclado:**\n",
    "\n",
    "Nota: El área de un círculo se obtiene al elevar el radio a dos y multiplicando el resultado por el número pi. Puedes utilizar el valor 3.14159 como pi o importarlo del módulo math:\n",
    "```python\n",
    "import math\n",
    "print(math.pi)\n",
    "> 3.1415...\n",
    "```"
   ]
  },
  {
   "cell_type": "code",
   "execution_count": 5,
   "metadata": {},
   "outputs": [
    {
     "name": "stdout",
     "output_type": "stream",
     "text": [
      "El área de su Circulo es:  13273.21775\n"
     ]
    }
   ],
   "source": [
    "import math\n",
    "def area_circulo(x):\n",
    "    pi = 3.14159\n",
    "    radio = (x**2)*pi\n",
    "    return radio\n",
    "\n",
    "CIRCULO = area_circulo(int(input(\"Escriba el radio de su Circulo\")))\n",
    "print(\"El área de su Circulo es: \",CIRCULO)\n",
    "\n",
    "   \n",
    "    "
   ]
  },
  {
   "cell_type": "markdown",
   "metadata": {},
   "source": [
    "**3) Realiza una función llamada lee_numero() que solicite y lea por teclado un numero. Utilizar esta función para pedirle al usuario 3 números. Luego pasarle estos 3 números a una función que se llame mayor() que tenga 3 parámetros y que devuelva el número mayor de los 3:**"
   ]
  },
  {
   "cell_type": "code",
   "execution_count": null,
   "metadata": {},
   "outputs": [],
   "source": [
    "def lee_numero():\n",
    "    numero = int(input(\"Ingresa un número: \"))\n",
    "    return numero\n",
    "\n",
    "def mayor(num1, num2, num3):\n",
    "    if num1 >= num2 and num1 >= num3:\n",
    "        return num1\n",
    "    elif num2 >= num1 and num2 >= num3:\n",
    "        return num2\n",
    "    else:\n",
    "        return num3\n",
    "\n",
    "# Pedir al usuario 3 números\n",
    "numero1 = lee_numero()\n",
    "numero2 = lee_numero()\n",
    "numero3 = lee_numero()\n",
    "\n",
    "# Obtener el número mayor\n",
    "resultado = mayor(numero1, numero2, numero3)\n",
    "\n",
    "print(\"El número mayor es:\", resultado)\n",
    "    "
   ]
  },
  {
   "cell_type": "markdown",
   "metadata": {},
   "source": [
    "**4) Realizar una función llamada imc(). Esta función nos proporcionará el estado nutricional de una persona. Esto es; la clasificación de su índice de masa corporal (IMC), según la tabla proporcionada. La función recibirá el peso (en kilos) y la talla de una persona (en metros con dos decimales), datos a partir de los cuales se puede calcular el IMC cómo:**\n",
    "\n",
    "IMC = peso / (altura * altura)\n",
    "\n",
    "Clasificación: IMC (Kg/m^2)\n",
    "* Bajo peso:  < 18.50\n",
    "* Normal:      [18.50, 25.00)\n",
    "* Sobrepeso: >= 25.00\n",
    "* Obesidad: >= 30.00"
   ]
  },
  {
   "cell_type": "code",
   "execution_count": 19,
   "metadata": {},
   "outputs": [
    {
     "name": "stdout",
     "output_type": "stream",
     "text": [
      "Tu indice es: 14.0\n",
      "Tu Clase es: Tienes Bajo peso\n"
     ]
    }
   ],
   "source": [
    "def imc(peso,altura):\n",
    "   IMC = peso //(altura**2)\n",
    "   return IMC\n",
    "\n",
    "def clasificacion(clase):    \n",
    "    if clase < 18.5:\n",
    "       estado =\"Tienes Bajo peso\"\n",
    "       \n",
    "    elif clase < 18.5:\n",
    "        estado = \"Tienes peso normal\"\n",
    "        \n",
    "    elif clase < 25.00:\n",
    "        estado = \"Tienes sobre peso\"\n",
    "        \n",
    "    elif clase < 30.00:\n",
    "        estado = \"Tienes obesidad\"\n",
    "    else:\n",
    "        estado = \"Tienes Obesidad extrema\"\n",
    "    return estado    \n",
    "    \n",
    "peso = float(input(\"Cuanto pesas: \"))\n",
    "altura = float(input(\"Cuanto mides: \"))\n",
    "\n",
    "indice_masa_corporal = imc(peso,altura)\n",
    "\n",
    "print(\"Tu indice es:\",indice_masa_corporal)\n",
    "\n",
    "clases = clasificacion(indice_masa_corporal)\n",
    "\n",
    "print(\"Tu Clase es:\", clases)\n"
   ]
  },
  {
   "cell_type": "markdown",
   "metadata": {},
   "source": [
    "**5) ¿Recuerdas este programa de la unidad de control de flujo?**\n",
    "\n",
    "Realiza un programa que realice las siguientes tareas:\n",
    "\n",
    "* Paso 1) solicite al usuario una contraseña y la guarde en una variable\n",
    "* Paso 2) pida al usuario introducir la contraseña para loguearse\n",
    "    * si la contraseña es correcta mostramos \"Login correcto\"\n",
    "    * si la contraseña no es correcta se le tendrá que mostrar un mensaje de \"Login fallido. Intento 1\", donde 1 será una variable contador que irá incrementandose hasta llegar a 5. En ese punto reiniciamos el programa y volveremos al Paso 1\n",
    "\n",
    "__Reestructura el ejercicio dividiéndolo al máximo en funciones.__"
   ]
  },
  {
   "cell_type": "code",
   "execution_count": 21,
   "metadata": {},
   "outputs": [
    {
     "name": "stdout",
     "output_type": "stream",
     "text": [
      " Fin del Programa...\n",
      "Login Fallido. Intento 1\n",
      "Login Fallido. Intento 2\n",
      "Login Fallido. Intento 3\n",
      "Login Fallido. Intento 4\n",
      "Login Fallido. Intento 5\n",
      "Haz accedido al limite del programa, volveremos al Pado 1\n",
      "Login Fallido. Intento 1\n",
      "Login Fallido. Intento 2\n",
      "Login Fallido. Intento 3\n",
      "Excelente Login correcto\n"
     ]
    }
   ],
   "source": [
    "def pedir():\n",
    " contador = 1\n",
    " while True:\n",
    "    \n",
    "  contraseña = (input(\"Ingrese su nueva Contraseña: \"))#pedimos su contraseña\n",
    "  lepido = input(\"Ingrese su Contraseña: \")  # le pedimos que porfavor la vuelva a escribir\n",
    "  \n",
    "  if contraseña == lepido: # si es correcto le mostrará que es correcto y saldrá del programa.\n",
    "    print(\"Excelente Login correcto\")\n",
    "    break\n",
    "  \n",
    "  else: \n",
    "      print(f\"Login Fallido. Intento {contador}\") #si falla comenzará a repetirse y mostrar cuantas veces tiene\n",
    "      contador+=1\n",
    "      if contador > 5:\n",
    "       print(\"Haz accedido al limite del programa, volveremos al Pado 1\")\n",
    "       contador = 1 #reiniciamos el programa\n",
    "       \n",
    "print(\" Fin del Programa...\")# aclaramos que a salido del programa.\n",
    "\n",
    "pedir()"
   ]
  }
 ],
 "metadata": {
  "anaconda-cloud": {},
  "kernelspec": {
   "display_name": "Python 3",
   "language": "python",
   "name": "python3"
  },
  "language_info": {
   "codemirror_mode": {
    "name": "ipython",
    "version": 3
   },
   "file_extension": ".py",
   "mimetype": "text/x-python",
   "name": "python",
   "nbconvert_exporter": "python",
   "pygments_lexer": "ipython3",
   "version": "3.10.2"
  }
 },
 "nbformat": 4,
 "nbformat_minor": 1
}
